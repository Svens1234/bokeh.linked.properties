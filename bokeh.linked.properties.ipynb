{
 "cells": [
  {
   "cell_type": "code",
   "execution_count": 1,
   "id": "8c9b2610",
   "metadata": {},
   "outputs": [],
   "source": [
    "from bokeh.layouts import column\n",
    "from bokeh.models import Slider\n",
    "from bokeh.plotting import figure, show"
   ]
  },
  {
   "cell_type": "code",
   "execution_count": 3,
   "id": "fe6d04b4",
   "metadata": {},
   "outputs": [],
   "source": [
    "plot = figure(width=400, height=400)\n",
    "r = plot.circle([1,2,3,4,5,], [3,2,5,6,4], radius=0.2, alpha=0.5)\n",
    "\n",
    "slider = Slider(start=0.1, end=2, step=0.01, value=0.2)\n",
    "slider.js_link('value', r.glyph, 'radius')\n",
    "\n",
    "show(column(plot, slider))"
   ]
  },
  {
   "cell_type": "code",
   "execution_count": null,
   "id": "89b22057",
   "metadata": {},
   "outputs": [],
   "source": []
  }
 ],
 "metadata": {
  "kernelspec": {
   "display_name": "Python 3 (ipykernel)",
   "language": "python",
   "name": "python3"
  },
  "language_info": {
   "codemirror_mode": {
    "name": "ipython",
    "version": 3
   },
   "file_extension": ".py",
   "mimetype": "text/x-python",
   "name": "python",
   "nbconvert_exporter": "python",
   "pygments_lexer": "ipython3",
   "version": "3.10.5"
  }
 },
 "nbformat": 4,
 "nbformat_minor": 5
}
